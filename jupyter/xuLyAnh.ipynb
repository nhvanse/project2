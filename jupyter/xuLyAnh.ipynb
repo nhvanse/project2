{
 "cells": [
  {
   "cell_type": "code",
   "execution_count": 2,
   "metadata": {
    "scrolled": true
   },
   "outputs": [],
   "source": [
    "import cv2\n",
    "label = [chr(i) for i in range(65, 91)]\n",
    "for i in label:\n",
    "    imagePath = '/home/van/Desktop/Project2/camera/' + i + '.jpg'\n",
    "    image = cv2.imread(imagePath)\n",
    "\n",
    "    im_gray = cv2.cvtColor(image, cv2.COLOR_BGR2GRAY)\n",
    "    im_blur = cv2.GaussianBlur(im_gray, (5,5), 0)\n",
    "    # im, thres = cv2.threshold(im_blur, 160, 255, cv2.THRESH_BINARY_INV)\n",
    "    thres = cv2.adaptiveThreshold(im_blur,maxValue=255, adaptiveMethod=cv2.ADAPTIVE_THRESH_GAUSSIAN_C, thresholdType=cv2.THRESH_BINARY_INV,blockSize=59,C=15)\n",
    "    resPath = '/home/van/Desktop/Project2/image1/' + i + '.jpg'\n",
    "    cv2.imwrite(resPath, thres)\n",
    "\n"
   ]
  },
  {
   "cell_type": "code",
   "execution_count": 34,
   "metadata": {},
   "outputs": [],
   "source": [
    "import cv2\n",
    "im = cv2.imread('/home/van/Desktop/Project2/media/A.jpg', 0)\n",
    "imb = cv2.GaussianBlur(im, (3,3), 0)\n",
    "cv2.imshow('b', imb)\n",
    "cv2.waitKey(10000)\n",
    "cv2.destroyAllWindows()"
   ]
  },
  {
   "cell_type": "code",
   "execution_count": null,
   "metadata": {},
   "outputs": [],
   "source": []
  }
 ],
 "metadata": {
  "kernelspec": {
   "display_name": "Python 3",
   "language": "python",
   "name": "python3"
  },
  "language_info": {
   "codemirror_mode": {
    "name": "ipython",
    "version": 3
   },
   "file_extension": ".py",
   "mimetype": "text/x-python",
   "name": "python",
   "nbconvert_exporter": "python",
   "pygments_lexer": "ipython3",
   "version": "3.7.3"
  }
 },
 "nbformat": 4,
 "nbformat_minor": 2
}
