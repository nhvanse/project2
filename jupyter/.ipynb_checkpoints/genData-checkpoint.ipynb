{
 "cells": [
  {
   "cell_type": "code",
   "execution_count": 1,
   "metadata": {},
   "outputs": [],
   "source": [
    "import cv2\n",
    "import numpy as np\n",
    "import random\n",
    "\n",
    "from time import time\n",
    "t0 = time()"
   ]
  },
  {
   "cell_type": "code",
   "execution_count": 2,
   "metadata": {},
   "outputs": [],
   "source": [
    "IMG_SIZE = 28\n",
    "N_CLASSES = 52\n",
    "PROJECT_PATH = '/home/van/Desktop/Project2/'"
   ]
  },
  {
   "cell_type": "code",
   "execution_count": 3,
   "metadata": {},
   "outputs": [],
   "source": [
    "import os\n",
    "results= [chr(char) for char in range(65, 91)]\n",
    "\n",
    "for char in range(97, 123):\n",
    "    results.append(chr(char))\n",
    "    \n",
    "for i in results:\n",
    "    dirName = '/home/van/Desktop/Project2/image/' + str(i)\n",
    "    if (not os.path.exists(dirName)):\n",
    "        os.mkdir(dirName)"
   ]
  },
  {
   "cell_type": "code",
   "execution_count": 4,
   "metadata": {},
   "outputs": [],
   "source": [
    "MIN_SIZE = 14\n",
    "\n",
    "\n",
    "for i in results:\n",
    "    imagePath = PROJECT_PATH + 'camera/' + i + '.jpg'\n",
    "    image = cv2.imread(imagePath)\n",
    "\n",
    "    im_gray = cv2.cvtColor(image, cv2.COLOR_BGR2GRAY)\n",
    "    im_blur = cv2.GaussianBlur(im_gray, (5,5), 0)\n",
    "    # im, thres = cv2.threshold(im_blur, 160, 255, cv2.THRESH_BINARY_INV)\n",
    "    thre = cv2.adaptiveThreshold(im_blur,maxValue=255, adaptiveMethod=cv2.ADAPTIVE_THRESH_GAUSSIAN_C, thresholdType=cv2.THRESH_BINARY_INV,blockSize=59,C=15)\n",
    "    \n",
    "    contours,hierachy = cv2.findContours(thre,cv2.RETR_EXTERNAL,cv2.CHAIN_APPROX_SIMPLE)\n",
    "    rects = [cv2.boundingRect(cnt) for cnt in contours]\n",
    "    \n",
    "    dem = 1\n",
    "    \n",
    "    for j in contours:\n",
    "        (x,y,w,h) = cv2.boundingRect(j)\n",
    "        if (w < MIN_SIZE or h < MIN_SIZE):\n",
    "            continue\n",
    "        \n",
    "        cv2.rectangle(image,(x,y),(x+w,y+h),(0,255,0),3)\n",
    "        roi = thre[y:y+h,x:x+w]\n",
    "        \n",
    "        roi = np.pad(roi,(20,20),'constant',constant_values=(0,0))\n",
    "        roi = cv2.resize(roi, (28, 28), interpolation=cv2.INTER_AREA)\n",
    "        roi = cv2.dilate(roi, (3, 3))\n",
    "        file1 = PROJECT_PATH + 'image/'+ i + '/' + i +str(dem)+'.jpg'\n",
    "        cv2.imwrite(file1, roi)\n",
    "        dem += 1"
   ]
  }
 ],
 "metadata": {
  "kernelspec": {
   "display_name": "Python 3",
   "language": "python",
   "name": "python3"
  },
  "language_info": {
   "codemirror_mode": {
    "name": "ipython",
    "version": 3
   },
   "file_extension": ".py",
   "mimetype": "text/x-python",
   "name": "python",
   "nbconvert_exporter": "python",
   "pygments_lexer": "ipython3",
   "version": "3.7.3"
  }
 },
 "nbformat": 4,
 "nbformat_minor": 2
}
