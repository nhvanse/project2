{
 "cells": [
  {
   "cell_type": "code",
   "execution_count": 1,
   "metadata": {},
   "outputs": [
    {
     "name": "stdout",
     "output_type": "stream",
     "text": [
      "WARNING:tensorflow:From /home/van/.conda/envs/project2/lib/python3.7/site-packages/tensorflow/python/framework/op_def_library.py:263: colocate_with (from tensorflow.python.framework.ops) is deprecated and will be removed in a future version.\n",
      "Instructions for updating:\n",
      "Colocations handled automatically by placer.\n"
     ]
    }
   ],
   "source": [
    "import cv2\n",
    "import numpy as np\n",
    "import random\n",
    "\n",
    "import tensorflow as tf\n",
    "import tflearn\n",
    "from tflearn.layers.conv import conv_2d, max_pool_2d\n",
    "from tflearn.layers.core import input_data, dropout, fully_connected\n",
    "from tflearn.layers import regression\n",
    "from tflearn.data_utils import to_categorical\n",
    "\n",
    "from time import time\n",
    "t0 = time()"
   ]
  },
  {
   "cell_type": "code",
   "execution_count": 2,
   "metadata": {},
   "outputs": [],
   "source": [
    "IMG_SIZE = 28\n",
    "N_CLASSES = 52\n",
    "PROJECT_PATH = '/home/van/Desktop/Project2/' \n",
    "TRAIN_SIZE = 11000\n"
   ]
  },
  {
   "cell_type": "code",
   "execution_count": 3,
   "metadata": {},
   "outputs": [
    {
     "name": "stdout",
     "output_type": "stream",
     "text": [
      "52\n"
     ]
    }
   ],
   "source": [
    "chars = [chr(i) for i in range(65, 91)]\n",
    "for i in range(97, 123):\n",
    "    chars.append(chr(i))\n",
    "print(len(chars))"
   ]
  },
  {
   "cell_type": "code",
   "execution_count": 4,
   "metadata": {},
   "outputs": [],
   "source": [
    "def processData():\n",
    "        import os\n",
    "        import cv2\n",
    "        import numpy as np\n",
    "        import random\n",
    "\n",
    "        data = []\n",
    "        label = []\n",
    "\n",
    "        global chars\n",
    "        for i, char in enumerate(chars):\n",
    "                dirPath = PROJECT_PATH + 'image/' +  char + '/'\n",
    "                fileNames = os.listdir(dirPath)\n",
    "                for imageFile in fileNames:\n",
    "                        image = cv2.imread(dirPath + imageFile, 0)\n",
    "                        data.append(image)\n",
    "                        label.append(i)\n",
    "\n",
    "        # xáo trộn dữu liệu\n",
    "        l = len(label)  # l =7820\n",
    "        sf = list(range(l))\n",
    "        random.shuffle(sf)\n",
    "        \n",
    "        data = np.array(data)\n",
    "        label = np.array(label)\n",
    "        data = data[sf]\n",
    "        label = label[sf]\n",
    "\n",
    "        return data, label\n"
   ]
  },
  {
   "cell_type": "code",
   "execution_count": 5,
   "metadata": {
    "scrolled": true
   },
   "outputs": [
    {
     "name": "stdout",
     "output_type": "stream",
     "text": [
      "number of image: 14826\n"
     ]
    }
   ],
   "source": [
    "data, label = processData()\n",
    "print(\"number of image: \" + str(len(label))) # 14826\n",
    "\n",
    "train_x = data[:TRAIN_SIZE]\n",
    "train_y = label[:TRAIN_SIZE]\n",
    "test_x = data[TRAIN_SIZE:]\n",
    "test_y = label[TRAIN_SIZE:]\n",
    "\n",
    "# lưu lại tập test để test về sau\n",
    "# np.save(PROJECT_PATH + 'numpy/test_x', test_x)\n",
    "# np.save(PROJECT_PATH + 'numpy/test_y', test_y)"
   ]
  },
  {
   "cell_type": "code",
   "execution_count": 6,
   "metadata": {},
   "outputs": [],
   "source": [
    "# chuyển dữ liệu train về dạng phù hợp\n",
    "train_x = np.reshape(train_x, (-1, IMG_SIZE, IMG_SIZE, 1))\n",
    "train_y = to_categorical(train_y, N_CLASSES)"
   ]
  },
  {
   "cell_type": "code",
   "execution_count": 7,
   "metadata": {},
   "outputs": [
    {
     "name": "stdout",
     "output_type": "stream",
     "text": [
      "WARNING:tensorflow:From /home/van/.conda/envs/project2/lib/python3.7/site-packages/tflearn/initializations.py:119: UniformUnitScaling.__init__ (from tensorflow.python.ops.init_ops) is deprecated and will be removed in a future version.\n",
      "Instructions for updating:\n",
      "Use tf.initializers.variance_scaling instead with distribution=uniform to get equivalent behavior.\n",
      "WARNING:tensorflow:From /home/van/.conda/envs/project2/lib/python3.7/site-packages/tflearn/layers/core.py:239: calling dropout (from tensorflow.python.ops.nn_ops) with keep_prob is deprecated and will be removed in a future version.\n",
      "Instructions for updating:\n",
      "Please use `rate` instead of `keep_prob`. Rate should be set to `rate = 1 - keep_prob`.\n",
      "WARNING:tensorflow:From /home/van/.conda/envs/project2/lib/python3.7/site-packages/tflearn/objectives.py:66: calling reduce_sum_v1 (from tensorflow.python.ops.math_ops) with keep_dims is deprecated and will be removed in a future version.\n",
      "Instructions for updating:\n",
      "keep_dims is deprecated, use keepdims instead\n",
      "WARNING:tensorflow:From /home/van/.conda/envs/project2/lib/python3.7/site-packages/tensorflow/python/ops/math_ops.py:3066: to_int32 (from tensorflow.python.ops.math_ops) is deprecated and will be removed in a future version.\n",
      "Instructions for updating:\n",
      "Use tf.cast instead.\n"
     ]
    }
   ],
   "source": [
    "tf.reset_default_graph()\n",
    "\n",
    "network = input_data(shape=[None, IMG_SIZE, IMG_SIZE, 1])\n",
    "\n",
    "network = conv_2d(network, 32, 3, activation='relu') \n",
    "network = max_pool_2d(network, 2) \n",
    "\n",
    "network = conv_2d(network, 64, 3, activation='relu')\n",
    "network = max_pool_2d(network, 2)\n",
    "\n",
    "network = conv_2d(network, 32, 3, activation='relu')\n",
    "network = max_pool_2d(network, 2)\n",
    "\n",
    "network = conv_2d(network, 64, 3, activation='relu')\n",
    "network = max_pool_2d(network, 2)\n",
    "\n",
    "network = conv_2d(network, 32, 3, activation='relu')\n",
    "network = max_pool_2d(network, 2)\n",
    "\n",
    "network = conv_2d(network, 64, 3, activation='relu')\n",
    "network = max_pool_2d(network, 2)\n",
    "\n",
    "network = fully_connected(network, 1024, activation='relu') \n",
    "network = dropout(network, 0.8)\n",
    "\n",
    "network = fully_connected(network, N_CLASSES, activation='softmax')\n",
    "network = regression(network)\n",
    "\n",
    "model = tflearn.DNN(network) "
   ]
  },
  {
   "cell_type": "code",
   "execution_count": null,
   "metadata": {},
   "outputs": [
    {
     "name": "stdout",
     "output_type": "stream",
     "text": [
      "Training Step: 619  | total loss: \u001b[1m\u001b[32m0.22561\u001b[0m\u001b[0m | time: 5.974s\n",
      "\u001b[2K\r",
      "| Adam | epoch: 004 | loss: 0.22561 - acc: 0.9502 -- iter: 9856/9900\n"
     ]
    }
   ],
   "source": [
    "# train\n",
    "t0 = time()\n",
    "model.fit(train_x, train_y, n_epoch= 50, shuffle= True, show_metric=True, validation_set=0.1)\n",
    "model.save(PROJECT_PATH + 'model/model.tflearn')\n",
    "print('Time: {}'.format(time() - t0)) # 343s\n"
   ]
  },
  {
   "cell_type": "code",
   "execution_count": null,
   "metadata": {},
   "outputs": [],
   "source": [
    "# load model và tập test\n",
    "model.load(PROJECT_PATH + 'model/model.tflearn')\n",
    "test_x = np.load(PROJECT_PATH + 'numpy/test_x.npy')\n",
    "test_y = np.load(PROJECT_PATH + 'numpy/test_y.npy')\n"
   ]
  },
  {
   "cell_type": "code",
   "execution_count": null,
   "metadata": {},
   "outputs": [],
   "source": [
    "\n",
    "test_x = np.reshape(test_x, (-1, IMG_SIZE, IMG_SIZE, 1))\n",
    "origin_test_y = test_y  # để kiểm tra độ chính xác\n",
    "# test_y = to_categorical(test_y, N_CLASSES)\n",
    "\n",
    "test_logist =model.predict(test_x)\n",
    "pre_y = np.argmax(test_logist, axis=-1)\n",
    "print('accuracy: %f'%(np.sum(origin_test_y==pre_y) / len(origin_test_y))) \n",
    "np.shape(test_y)"
   ]
  },
  {
   "cell_type": "code",
   "execution_count": null,
   "metadata": {},
   "outputs": [],
   "source": [
    "def testInImage(imagePath):\n",
    "        import cv2\n",
    "        import numpy as np\n",
    "\n",
    "        results= chars.copy()\n",
    "\n",
    "        image = cv2.imread(imagePath)\n",
    "\n",
    "        im_gray = cv2.cvtColor(image, cv2.COLOR_BGR2GRAY)\n",
    "        im_blur = cv2.GaussianBlur(im_gray, (5,5), 0)\n",
    "        # im, thres = cv2.threshold(im_blur, 160, 255, cv2.THRESH_BINARY_INV)\n",
    "        thre = cv2.adaptiveThreshold(im_blur,maxValue=255, adaptiveMethod=cv2.ADAPTIVE_THRESH_GAUSSIAN_C, thresholdType=cv2.THRESH_BINARY_INV,blockSize=59,C=15)\n",
    "\n",
    "\n",
    "        contours,hierachy = cv2.findContours(thre,cv2.RETR_EXTERNAL,cv2.CHAIN_APPROX_SIMPLE)\n",
    "\n",
    "        MIN_SIZE = 24\n",
    "        \n",
    "        for i in contours:\n",
    "                (x,y,w,h) = cv2.boundingRect(i)\n",
    "                if (h < MIN_SIZE and w < MIN_SIZE):\n",
    "                        continue\n",
    "                cv2.rectangle(image,(x,y),(x+w,y+h),color=(0,255,0),thickness=2)\n",
    "                roi = thre[y:y+h,x:x+w]\n",
    "                \n",
    "                roi = np.pad(roi,(20,20),'constant',constant_values=(0,0))\n",
    "                roi = cv2.resize(roi, (28, 28), interpolation=cv2.INTER_AREA)\n",
    "                roi = cv2.dilate(roi, (3, 3))\n",
    "\n",
    "                test_x = np.array([roi,])\n",
    "                test_x = test_x.reshape(-1, IMG_SIZE, IMG_SIZE, 1)\n",
    "                # dự đoán với tập dữ liệu test\n",
    "                global model\n",
    "                test_logits = model.predict(test_x)\n",
    "                # #lấy phần tử có giá trị lớn nhất \n",
    "                test_logits = np.argmax(test_logits, axis=-1)\n",
    "                res = results[int(test_logits)]\n",
    "                cv2.putText(image, str(res), (x, y),cv2.FONT_HERSHEY_DUPLEX, 2, (255, 255, 0), 3)\n",
    "               \n",
    "        cv2.namedWindow('im', cv2.WINDOW_NORMAL)\n",
    "        cv2.imwrite(PROJECT_PATH + 'test_image/result.jpg', image)\n",
    "        cv2.imshow('im', image)\n",
    "        cv2.waitKey(20000)\n",
    "        cv2.destroyAllWindows()\n",
    "        "
   ]
  },
  {
   "cell_type": "code",
   "execution_count": null,
   "metadata": {},
   "outputs": [],
   "source": [
    "testInImage(PROJECT_PATH + 'test_image/test2.jpg')"
   ]
  },
  {
   "cell_type": "code",
   "execution_count": null,
   "metadata": {},
   "outputs": [],
   "source": [
    "# testInImage(PROJECT_PATH + 'camera/z.jpg')"
   ]
  },
  {
   "cell_type": "code",
   "execution_count": null,
   "metadata": {},
   "outputs": [],
   "source": []
  }
 ],
 "metadata": {
  "kernelspec": {
   "display_name": "Python 3",
   "language": "python",
   "name": "python3"
  },
  "language_info": {
   "codemirror_mode": {
    "name": "ipython",
    "version": 3
   },
   "file_extension": ".py",
   "mimetype": "text/x-python",
   "name": "python",
   "nbconvert_exporter": "python",
   "pygments_lexer": "ipython3",
   "version": "3.7.3"
  }
 },
 "nbformat": 4,
 "nbformat_minor": 2
}
